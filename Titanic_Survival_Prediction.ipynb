{
 "cells": [
  {
   "cell_type": "markdown",
   "id": "5c26e298",
   "metadata": {},
   "source": [
    "\n",
    "# 🚢 Titanic Survival Prediction\n",
    "\n",
    "This notebook demonstrates a **machine learning project** using the Titanic dataset.  \n",
    "Technologies used: **Python, Pandas, Scikit-learn**\n",
    "\n",
    "---\n"
   ]
  },
  {
   "cell_type": "code",
   "execution_count": null,
   "id": "646bef5f",
   "metadata": {},
   "outputs": [],
   "source": [
    "\n",
    "import pandas as pd\n",
    "import numpy as np\n",
    "import seaborn as sns\n",
    "import matplotlib.pyplot as plt\n",
    "from sklearn.model_selection import train_test_split\n",
    "from sklearn.linear_model import LogisticRegression\n",
    "from sklearn.metrics import accuracy_score, confusion_matrix, classification_report\n"
   ]
  },
  {
   "cell_type": "code",
   "execution_count": null,
   "id": "4aa34d18",
   "metadata": {},
   "outputs": [],
   "source": [
    "\n",
    "# Load Titanic dataset (replace path with your dataset file)\n",
    "data = pd.read_csv(\"titanic.csv\")\n",
    "print(\"Dataset Shape:\", data.shape)\n",
    "data.head()\n"
   ]
  },
  {
   "cell_type": "code",
   "execution_count": null,
   "id": "5ceea802",
   "metadata": {},
   "outputs": [],
   "source": [
    "\n",
    "# Drop unnecessary columns\n",
    "data = data.drop([\"Name\", \"Ticket\", \"Cabin\"], axis=1)\n",
    "\n",
    "# Handle missing values\n",
    "data[\"Age\"].fillna(data[\"Age\"].median(), inplace=True)\n",
    "data[\"Embarked\"].fillna(data[\"Embarked\"].mode()[0], inplace=True)\n",
    "\n",
    "# Convert categorical to numerical\n",
    "data[\"Sex\"] = data[\"Sex\"].map({\"male\": 0, \"female\": 1})\n",
    "data[\"Embarked\"] = data[\"Embarked\"].map({\"C\": 0, \"Q\": 1, \"S\": 2})\n",
    "\n",
    "data.head()\n"
   ]
  },
  {
   "cell_type": "code",
   "execution_count": null,
   "id": "0356cc09",
   "metadata": {},
   "outputs": [],
   "source": [
    "\n",
    "# Exploratory Data Analysis (EDA)\n",
    "sns.countplot(x=\"Survived\", data=data)\n",
    "plt.title(\"Survival Count\")\n",
    "plt.show()\n",
    "\n",
    "sns.barplot(x=\"Sex\", y=\"Survived\", data=data)\n",
    "plt.title(\"Survival by Gender\")\n",
    "plt.show()\n"
   ]
  },
  {
   "cell_type": "code",
   "execution_count": null,
   "id": "316d0593",
   "metadata": {},
   "outputs": [],
   "source": [
    "\n",
    "X = data.drop(\"Survived\", axis=1)\n",
    "y = data[\"Survived\"]\n",
    "\n",
    "X_train, X_test, y_train, y_test = train_test_split(\n",
    "    X, y, test_size=0.2, random_state=42\n",
    ")\n"
   ]
  },
  {
   "cell_type": "code",
   "execution_count": null,
   "id": "5fafc136",
   "metadata": {},
   "outputs": [],
   "source": [
    "\n",
    "# Logistic Regression Model\n",
    "model = LogisticRegression(max_iter=200)\n",
    "model.fit(X_train, y_train)\n",
    "\n",
    "# Predictions\n",
    "y_pred = model.predict(X_test)\n"
   ]
  },
  {
   "cell_type": "code",
   "execution_count": null,
   "id": "e301d2a1",
   "metadata": {},
   "outputs": [],
   "source": [
    "\n",
    "# Model Evaluation\n",
    "print(\"Model Accuracy:\", accuracy_score(y_test, y_pred))\n",
    "print(\"Confusion Matrix:\\n\", confusion_matrix(y_test, y_pred))\n",
    "print(\"Classification Report:\\n\", classification_report(y_test, y_pred))\n"
   ]
  }
 ],
 "metadata": {},
 "nbformat": 4,
 "nbformat_minor": 5
}
