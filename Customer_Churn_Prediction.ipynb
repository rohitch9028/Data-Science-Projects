{
 "cells": [
  {
   "cell_type": "markdown",
   "id": "16d8bc93",
   "metadata": {},
   "source": [
    "# 📊 Customer Churn Prediction\n",
    "### Technologies: Python, Pandas, NumPy, Scikit-learn, Matplotlib, Seaborn\n",
    "---\n",
    "This notebook demonstrates how to build a machine learning model to predict customer churn.\n",
    "The goal is to identify which customers are likely to stop using a service based on their behavior and demographics."
   ]
  },
  {
   "cell_type": "code",
   "execution_count": null,
   "id": "89e24f5a",
   "metadata": {},
   "outputs": [],
   "source": [
    "# Importing required libraries\n",
    "import pandas as pd\n",
    "import numpy as np\n",
    "import matplotlib.pyplot as plt\n",
    "import seaborn as sns\n",
    "from sklearn.model_selection import train_test_split\n",
    "from sklearn.preprocessing import LabelEncoder, StandardScaler\n",
    "from sklearn.linear_model import LogisticRegression\n",
    "from sklearn.ensemble import RandomForestClassifier\n",
    "from sklearn.metrics import accuracy_score, classification_report, confusion_matrix\n",
    "\n",
    "# For this demo, we create a synthetic dataset\n",
    "np.random.seed(42)\n",
    "data = pd.DataFrame({\n",
    "    'CustomerID': range(1, 501),\n",
    "    'Gender': np.random.choice(['Male', 'Female'], 500),\n",
    "    'Age': np.random.randint(18, 70, 500),\n",
    "    'Tenure': np.random.randint(1, 72, 500),\n",
    "    'Balance': np.random.randint(0, 200000, 500),\n",
    "    'NumOfProducts': np.random.randint(1, 4, 500),\n",
    "    'HasCrCard': np.random.choice([0, 1], 500),\n",
    "    'IsActiveMember': np.random.choice([0, 1], 500),\n",
    "    'EstimatedSalary': np.random.randint(10000, 150000, 500),\n",
    "    'Exited': np.random.choice([0, 1], 500)  # Target variable\n",
    "})\n",
    "\n",
    "data.head()"
   ]
  },
  {
   "cell_type": "markdown",
   "id": "f1d52cbd",
   "metadata": {},
   "source": [
    "## 🔍 Data Preprocessing"
   ]
  },
  {
   "cell_type": "code",
   "execution_count": null,
   "id": "a1dcb96e",
   "metadata": {},
   "outputs": [],
   "source": [
    "# Encode categorical features\n",
    "le = LabelEncoder()\n",
    "data['Gender'] = le.fit_transform(data['Gender'])\n",
    "\n",
    "# Define features and target\n",
    "X = data.drop(['CustomerID', 'Exited'], axis=1)\n",
    "y = data['Exited']\n",
    "\n",
    "# Split the dataset\n",
    "X_train, X_test, y_train, y_test = train_test_split(X, y, test_size=0.2, random_state=42)\n",
    "\n",
    "# Scale features\n",
    "scaler = StandardScaler()\n",
    "X_train = scaler.fit_transform(X_train)\n",
    "X_test = scaler.transform(X_test)"
   ]
  },
  {
   "cell_type": "markdown",
   "id": "173e076c",
   "metadata": {},
   "source": [
    "## 🤖 Model Training and Evaluation"
   ]
  },
  {
   "cell_type": "code",
   "execution_count": null,
   "id": "2c6f89d5",
   "metadata": {},
   "outputs": [],
   "source": [
    "# Logistic Regression\n",
    "log_model = LogisticRegression()\n",
    "log_model.fit(X_train, y_train)\n",
    "y_pred_log = log_model.predict(X_test)\n",
    "\n",
    "# Random Forest\n",
    "rf_model = RandomForestClassifier(n_estimators=100, random_state=42)\n",
    "rf_model.fit(X_train, y_train)\n",
    "y_pred_rf = rf_model.predict(X_test)\n",
    "\n",
    "# Evaluation\n",
    "print(\"Logistic Regression Accuracy:\", accuracy_score(y_test, y_pred_log))\n",
    "print(\"Random Forest Accuracy:\", accuracy_score(y_test, y_pred_rf))\n",
    "\n",
    "print(\"\\nClassification Report (Random Forest):\")\n",
    "print(classification_report(y_test, y_pred_rf))"
   ]
  },
  {
   "cell_type": "markdown",
   "id": "2234d604",
   "metadata": {},
   "source": [
    "## 📈 Confusion Matrix Visualization"
   ]
  },
  {
   "cell_type": "code",
   "execution_count": null,
   "id": "c6b3f503",
   "metadata": {},
   "outputs": [],
   "source": [
    "cm = confusion_matrix(y_test, y_pred_rf)\n",
    "sns.heatmap(cm, annot=True, fmt='d', cmap='Blues')\n",
    "plt.title('Random Forest Confusion Matrix')\n",
    "plt.xlabel('Predicted')\n",
    "plt.ylabel('Actual')\n",
    "plt.show()"
   ]
  },
  {
   "cell_type": "markdown",
   "id": "79170515",
   "metadata": {},
   "source": [
    "## 🧩 Conclusion\n",
    "- Built and trained churn prediction models using synthetic data.\n",
    "- Random Forest performed slightly better than Logistic Regression.\n",
    "- This approach can help identify customers likely to churn, enabling proactive retention strategies."
   ]
  }
 ],
 "metadata": {},
 "nbformat": 4,
 "nbformat_minor": 5
}
